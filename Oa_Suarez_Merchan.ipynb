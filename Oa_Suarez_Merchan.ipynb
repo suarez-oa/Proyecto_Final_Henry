{
  "nbformat": 4,
  "nbformat_minor": 0,
  "metadata": {
    "colab": {
      "provenance": [],
      "machine_shape": "hm",
      "include_colab_link": true
    },
    "kernelspec": {
      "name": "python3",
      "display_name": "Python 3"
    },
    "language_info": {
      "name": "python"
    }
  },
  "cells": [
    {
      "cell_type": "markdown",
      "metadata": {
        "id": "view-in-github",
        "colab_type": "text"
      },
      "source": [
        "<a href=\"https://colab.research.google.com/github/suarez-oa/Proyecto_Final_Henry/blob/main/Oa_Suarez_Merchan.ipynb\" target=\"_parent\"><img src=\"https://colab.research.google.com/assets/colab-badge.svg\" alt=\"Open In Colab\"/></a>"
      ]
    },
    {
      "cell_type": "code",
      "execution_count": 29,
      "metadata": {
        "id": "kmYsheM6rQ9L"
      },
      "outputs": [],
      "source": [
        "import pandas as pd\n",
        "import json\n",
        "import numpy as np\n",
        "import pickle\n",
        "import pyarrow.parquet as pq\n",
        "import os\n",
        "from google.cloud import storage\n",
        "from google.colab import auth\n",
        "auth.authenticate_user()"
      ]
    },
    {
      "cell_type": "code",
      "source": [
        "from google.colab import drive\n",
        "drive.mount('/content/drive')"
      ],
      "metadata": {
        "colab": {
          "base_uri": "https://localhost:8080/"
        },
        "id": "E4k6-KLSrc-z",
        "outputId": "46e86f97-c80d-4c71-e890-6384585c618a"
      },
      "execution_count": null,
      "outputs": [
        {
          "output_type": "stream",
          "name": "stdout",
          "text": [
            "Mounted at /content/drive\n"
          ]
        }
      ]
    },
    {
      "cell_type": "code",
      "source": [
        "# Definir la configuración de Google Cloud\n",
        "project_id = 'oa-suarez-prueba'\n",
        "bucket_name = 'oa_suarez_merchan'\n",
        "estados_folder = 'estados'\n",
        "\n",
        "# Configura el proyecto\n",
        "!gcloud config set project {project_id} -q\n",
        "\n",
        "# Crea una instancia de Client para Google Cloud Storage\n",
        "client = storage.Client()\n",
        "\n",
        "# Accede al bucket de Google Cloud Storage\n",
        "bucket = client.get_bucket(bucket_name)\n"
      ],
      "metadata": {
        "colab": {
          "base_uri": "https://localhost:8080/"
        },
        "id": "_8LAYnrf-lcP",
        "outputId": "fe005453-93dd-49f2-8758-fd9be2143661"
      },
      "execution_count": null,
      "outputs": [
        {
          "output_type": "stream",
          "name": "stdout",
          "text": [
            "Updated property [core/project].\n"
          ]
        }
      ]
    },
    {
      "cell_type": "code",
      "source": [
        "def normalize_categories(category_list):\n",
        "    if category_list is not None:\n",
        "        return [category.strip() for category in category_list]\n",
        "    else:\n",
        "        return None\n",
        "\n",
        "\n",
        "def normalize_hours(hours_list):\n",
        "    if hours_list is not None:\n",
        "        normalized_hours = []\n",
        "        for day_hours in hours_list:\n",
        "            if len(day_hours) == 2:\n",
        "                day, hours = day_hours\n",
        "                normalized_day_hours = f\"{day}: {hours}\"\n",
        "                normalized_hours.append(normalized_day_hours)\n",
        "        return normalized_hours\n",
        "    else:\n",
        "        return None\n",
        "\n",
        "\n",
        "def flatten_dict(d):\n",
        "    if d is None:\n",
        "        return {}\n",
        "\n",
        "    flattened_dict = {}\n",
        "    for key, values in d.items():\n",
        "        if isinstance(values, list):\n",
        "            for value in values:\n",
        "                flattened_dict[f\"{key}: {value}\"] = 1\n",
        "        else:\n",
        "            flattened_dict[key] = values\n",
        "    return flattened_dict\n",
        "\n",
        "\n",
        "\n",
        "def cargar_y_normalizar(ruta_archivo):\n",
        "    with open(ruta_archivo, 'r') as f:\n",
        "        j = [json.loads(line) for line in f]\n",
        "    df = pd.DataFrame(j)\n",
        "    df['category'] = df['category'].apply(normalize_categories)\n",
        "    df_meta = df.dropna(subset=['category'])\n",
        "    df_meta = df_meta.explode('category')\n",
        "    df_meta = df_meta.drop(columns=['relative_results'])\n",
        "    df_meta = df_meta.drop(columns=['MISC'])\n",
        "    df_meta['hours'] = df_meta['hours'].apply(normalize_hours)\n",
        "    df_meta['hours'] = df_meta['hours'].apply(lambda x: ', '.join(x) if x is not None else None)\n",
        "    return df_meta\n",
        "\n",
        "\n",
        "def limpiar_datos(line):\n",
        "    try:\n",
        "        # Reemplazar caracteres de escape por espacios en blanco\n",
        "        line = line.replace('\\\\', ' ')\n",
        "        return json.loads(line)\n",
        "    except json.JSONDecodeError:\n",
        "        return None\n"
      ],
      "metadata": {
        "id": "GRhBpQ8-rdG9"
      },
      "execution_count": null,
      "outputs": []
    },
    {
      "cell_type": "code",
      "source": [
        "#selecciono la categoria que deseo buscar en la MetaData\n",
        "categoria_especifica = 'Tourist attraction'\n",
        "\n",
        "ruta_archivo1 = '/content/drive/MyDrive/Oa_Suarez/Google Maps/metadata-sitios/1.json'\n",
        "ruta_archivo2 = '/content/drive/MyDrive/Oa_Suarez/Google Maps/metadata-sitios/2.json'\n",
        "ruta_archivo3 = '/content/drive/MyDrive/Oa_Suarez/Google Maps/metadata-sitios/3.json'\n",
        "ruta_archivo4 = '/content/drive/MyDrive/Oa_Suarez/Google Maps/metadata-sitios/4.json'\n",
        "ruta_archivo5 = '/content/drive/MyDrive/Oa_Suarez/Google Maps/metadata-sitios/5.json'\n",
        "ruta_archivo6 = '/content/drive/MyDrive/Oa_Suarez/Google Maps/metadata-sitios/6.json'\n",
        "ruta_archivo7 = '/content/drive/MyDrive/Oa_Suarez/Google Maps/metadata-sitios/7.json'\n",
        "ruta_archivo8 = '/content/drive/MyDrive/Oa_Suarez/Google Maps/metadata-sitios/8.json'\n",
        "ruta_archivo9 = '/content/drive/MyDrive/Oa_Suarez/Google Maps/metadata-sitios/9.json'\n",
        "ruta_archivo10 = '/content/drive/MyDrive/Oa_Suarez/Google Maps/metadata-sitios/10.json'\n",
        "ruta_archivo11 = '/content/drive/MyDrive/Oa_Suarez/Google Maps/metadata-sitios/11.json'\n",
        "\n",
        "df_meta1 = cargar_y_normalizar(ruta_archivo1)\n",
        "df_meta2 = cargar_y_normalizar(ruta_archivo2)\n",
        "df_meta3 = cargar_y_normalizar(ruta_archivo3)\n",
        "df_meta4 = cargar_y_normalizar(ruta_archivo4)\n",
        "df_meta5 = cargar_y_normalizar(ruta_archivo5)\n",
        "df_meta6 = cargar_y_normalizar(ruta_archivo6)\n",
        "df_meta7 = cargar_y_normalizar(ruta_archivo7)\n",
        "df_meta8 = cargar_y_normalizar(ruta_archivo8)\n",
        "df_meta9 = cargar_y_normalizar(ruta_archivo9)\n",
        "df_meta10 = cargar_y_normalizar(ruta_archivo10)\n",
        "df_meta11 = cargar_y_normalizar(ruta_archivo11)\n",
        "\n",
        "df_meta_n1 = df_meta1[df_meta1['category'].str.contains(categoria_especifica, case=False, na=False)]\n",
        "df_meta_n2 = df_meta2[df_meta2['category'].str.contains(categoria_especifica, case=False, na=False)]\n",
        "df_meta_n3 = df_meta3[df_meta3['category'].str.contains(categoria_especifica, case=False, na=False)]\n",
        "df_meta_n4 = df_meta4[df_meta4['category'].str.contains(categoria_especifica, case=False, na=False)]\n",
        "df_meta_n5 = df_meta5[df_meta5['category'].str.contains(categoria_especifica, case=False, na=False)]\n",
        "df_meta_n6 = df_meta6[df_meta6['category'].str.contains(categoria_especifica, case=False, na=False)]\n",
        "df_meta_n7 = df_meta7[df_meta7['category'].str.contains(categoria_especifica, case=False, na=False)]\n",
        "df_meta_n8 = df_meta8[df_meta8['category'].str.contains(categoria_especifica, case=False, na=False)]\n",
        "df_meta_n9 = df_meta9[df_meta9['category'].str.contains(categoria_especifica, case=False, na=False)]\n",
        "df_meta_n10 = df_meta10[df_meta10['category'].str.contains(categoria_especifica, case=False, na=False)]\n",
        "df_meta_n11 = df_meta11[df_meta11['category'].str.contains(categoria_especifica, case=False, na=False)]\n",
        "\n",
        "#se concatena toda la meta data\n",
        "df_total_meta = pd.concat([df_meta_n1, df_meta_n2, df_meta_n3, df_meta_n4, df_meta_n5, df_meta_n6, df_meta_n7, df_meta_n8, df_meta_n9, df_meta_n10, df_meta_n11], ignore_index=True)\n",
        "df_total_meta = df_total_meta.fillna(0)\n",
        "columnas_deseadas = ['name', 'address', 'gmap_id', 'description', 'latitude', 'longitude', 'category', 'avg_rating', 'num_of_reviews', 'price']\n",
        "df_extraido = df_total_meta[columnas_deseadas]\n",
        "df_extraido.fillna(0, inplace=True)\n",
        "\n",
        "#se guarda el MetaData en CSV con la categoria seleccionada\n",
        "df_extraido.to_csv('/content/drive/MyDrive/Oa_Suarez/metadata_PW.csv', index=False)\n",
        "\n",
        "#guardamos otro CSV mas pequeños para el Machine Learning\n",
        "columnas_seleccionadas = ['gmap_id', 'price', 'num_of_reviews', 'avg_rating']\n",
        "df_seleccionado_ml = df_extraido[columnas_seleccionadas]\n",
        "df_seleccionado_ml.to_csv('/content/drive/MyDrive/Oa_Suarez/MetaData_ML.csv', index=False)\n",
        "\n",
        "# Sube el primer archivo CSV a Google Cloud Storage\n",
        "blob = bucket.blob('Metadata_PowerBI.csv')\n",
        "blob.upload_from_filename('/content/drive/MyDrive/Oa_Suarez/metadata_PW.csv')\n",
        "\n",
        "# Sube el segundo archivo CSV a Google Cloud Storage\n",
        "blob2 = bucket.blob('MetaData_ML.csv')\n",
        "blob2.upload_from_filename('/content/drive/MyDrive/Oa_Suarez/MetaData_ML.csv')\n"
      ],
      "metadata": {
        "id": "S2ZjuUT2tn5j"
      },
      "execution_count": null,
      "outputs": []
    },
    {
      "cell_type": "code",
      "source": [
        "df_meta1.columns"
      ],
      "metadata": {
        "colab": {
          "base_uri": "https://localhost:8080/"
        },
        "id": "-tGO3Awrhnx2",
        "outputId": "82a046b1-27f8-4472-e786-bc8173626544"
      },
      "execution_count": 34,
      "outputs": [
        {
          "output_type": "execute_result",
          "data": {
            "text/plain": [
              "Index(['name', 'address', 'gmap_id', 'description', 'latitude', 'longitude',\n",
              "       'category', 'avg_rating', 'num_of_reviews', 'price', 'hours', 'state',\n",
              "       'url'],\n",
              "      dtype='object')"
            ]
          },
          "metadata": {},
          "execution_count": 34
        }
      ]
    },
    {
      "cell_type": "code",
      "source": [
        "categoria_especifica = 'Pharmacy'\n",
        "\n",
        "df_meta_n1 = df_meta1[df_meta1['category'].str.contains(categoria_especifica, case=False, na=False)]\n",
        "df_meta_n2 = df_meta2[df_meta2['category'].str.contains(categoria_especifica, case=False, na=False)]\n",
        "df_meta_n3 = df_meta3[df_meta3['category'].str.contains(categoria_especifica, case=False, na=False)]\n",
        "df_meta_n4 = df_meta4[df_meta4['category'].str.contains(categoria_especifica, case=False, na=False)]\n",
        "df_meta_n5 = df_meta5[df_meta5['category'].str.contains(categoria_especifica, case=False, na=False)]\n",
        "df_meta_n6 = df_meta6[df_meta6['category'].str.contains(categoria_especifica, case=False, na=False)]\n",
        "df_meta_n7 = df_meta7[df_meta7['category'].str.contains(categoria_especifica, case=False, na=False)]\n",
        "df_meta_n8 = df_meta8[df_meta8['category'].str.contains(categoria_especifica, case=False, na=False)]\n",
        "df_meta_n9 = df_meta9[df_meta9['category'].str.contains(categoria_especifica, case=False, na=False)]\n",
        "df_meta_n10 = df_meta10[df_meta10['category'].str.contains(categoria_especifica, case=False, na=False)]\n",
        "df_meta_n11 = df_meta11[df_meta11['category'].str.contains(categoria_especifica, case=False, na=False)]\n",
        "\n",
        "#se concatena toda la meta data\n",
        "df_total_meta = pd.concat([df_meta_n1, df_meta_n2, df_meta_n3, df_meta_n4, df_meta_n5, df_meta_n6, df_meta_n7, df_meta_n8, df_meta_n9, df_meta_n10, df_meta_n11], ignore_index=True)\n",
        "df_total_meta = df_total_meta.fillna(0)\n",
        "columnas_deseadas = ['name', 'address', 'gmap_id', 'description', 'latitude', 'longitude', 'category', 'avg_rating', 'num_of_reviews', 'price']\n",
        "df_extraido = df_total_meta[columnas_deseadas]\n",
        "df_extraido.fillna(0, inplace=True)\n",
        "\n",
        "#se guarda el MetaData en CSV con la categoria seleccionada\n",
        "df_extraido.to_csv('/content/drive/MyDrive/Oa_Suarez/metadata_PW.csv', index=False)\n",
        "\n",
        "#guardamos otro CSV mas pequeños para el Machine Learning\n",
        "columnas_seleccionadas = ['gmap_id', 'price', 'num_of_reviews', 'avg_rating']\n",
        "df_seleccionado_ml = df_extraido[columnas_seleccionadas]\n",
        "df_seleccionado_ml.to_csv('/content/drive/MyDrive/Oa_Suarez/MetaData_ML.csv', index=False)\n",
        "\n",
        "# Sube el primer archivo CSV a Google Cloud Storage\n",
        "blob = bucket.blob('Metadata_PowerBI.csv')\n",
        "blob.upload_from_filename('/content/drive/MyDrive/Oa_Suarez/metadata_PW.csv')\n",
        "\n",
        "# Sube el segundo archivo CSV a Google Cloud Storage\n",
        "blob2 = bucket.blob('MetaData_ML.csv')\n",
        "blob2.upload_from_filename('/content/drive/MyDrive/Oa_Suarez/MetaData_ML.csv')"
      ],
      "metadata": {
        "colab": {
          "base_uri": "https://localhost:8080/"
        },
        "id": "ZUEf_AjAPlXI",
        "outputId": "1cb0117a-231c-4c92-9429-634d2ba62bb0"
      },
      "execution_count": 31,
      "outputs": [
        {
          "output_type": "stream",
          "name": "stderr",
          "text": [
            "<ipython-input-31-d3e9f37c9493>:20: SettingWithCopyWarning: \n",
            "A value is trying to be set on a copy of a slice from a DataFrame\n",
            "\n",
            "See the caveats in the documentation: https://pandas.pydata.org/pandas-docs/stable/user_guide/indexing.html#returning-a-view-versus-a-copy\n",
            "  df_extraido.fillna(0, inplace=True)\n"
          ]
        }
      ]
    },
    {
      "cell_type": "code",
      "source": [
        "# Lista de directorios de los 50 estados\n",
        "directorios = [\n",
        "    '/content/drive/MyDrive/Oa_Suarez/Google Maps/reviews-estados/review-Alabama',\n",
        "    '/content/drive/MyDrive/Oa_Suarez/Google Maps/reviews-estados/review-Alaska',\n",
        "    '/content/drive/MyDrive/Oa_Suarez/Google Maps/reviews-estados/review-Arizona',\n",
        "    '/content/drive/MyDrive/Oa_Suarez/Google Maps/reviews-estados/review-Arkansas',\n",
        "    '/content/drive/MyDrive/Oa_Suarez/Google Maps/reviews-estados/review-California',\n",
        "    '/content/drive/MyDrive/Oa_Suarez/Google Maps/reviews-estados/review-Colorado',\n",
        "    '/content/drive/MyDrive/Oa_Suarez/Google Maps/reviews-estados/review-Connecticut',\n",
        "    '/content/drive/MyDrive/Oa_Suarez/Google Maps/reviews-estados/review-Delaware',\n",
        "    '/content/drive/MyDrive/Oa_Suarez/Google Maps/reviews-estados/review-District_of_Columbia',\n",
        "    '/content/drive/MyDrive/Oa_Suarez/Google Maps/reviews-estados/review-Florida',\n",
        "    '/content/drive/MyDrive/Oa_Suarez/Google Maps/reviews-estados/review-Georgia',\n",
        "    '/content/drive/MyDrive/Oa_Suarez/Google Maps/reviews-estados/review-Hawaii',\n",
        "    '/content/drive/MyDrive/Oa_Suarez/Google Maps/reviews-estados/review-Idaho',\n",
        "    '/content/drive/MyDrive/Oa_Suarez/Google Maps/reviews-estados/review-Illinois',\n",
        "    '/content/drive/MyDrive/Oa_Suarez/Google Maps/reviews-estados/review-Indiana',\n",
        "    '/content/drive/MyDrive/Oa_Suarez/Google Maps/reviews-estados/review-Iowa',\n",
        "    '/content/drive/MyDrive/Oa_Suarez/Google Maps/reviews-estados/review-Kansas',\n",
        "    '/content/drive/MyDrive/Oa_Suarez/Google Maps/reviews-estados/review-Kentucky',\n",
        "    '/content/drive/MyDrive/Oa_Suarez/Google Maps/reviews-estados/review-Maine',\n",
        "    '/content/drive/MyDrive/Oa_Suarez/Google Maps/reviews-estados/review-Maryland',\n",
        "    '/content/drive/MyDrive/Oa_Suarez/Google Maps/reviews-estados/review-Massachusetts',\n",
        "    '/content/drive/MyDrive/Oa_Suarez/Google Maps/reviews-estados/review-Michigan',\n",
        "    '/content/drive/MyDrive/Oa_Suarez/Google Maps/reviews-estados/review-Minnesota',\n",
        "    '/content/drive/MyDrive/Oa_Suarez/Google Maps/reviews-estados/review-Mississippi',\n",
        "    '/content/drive/MyDrive/Oa_Suarez/Google Maps/reviews-estados/review-Missouri',\n",
        "    '/content/drive/MyDrive/Oa_Suarez/Google Maps/reviews-estados/review-Montana',\n",
        "    '/content/drive/MyDrive/Oa_Suarez/Google Maps/reviews-estados/review-Nebraska',\n",
        "    '/content/drive/MyDrive/Oa_Suarez/Google Maps/reviews-estados/review-Nevada',\n",
        "    '/content/drive/MyDrive/Oa_Suarez/Google Maps/reviews-estados/review-New_Hampshire',\n",
        "    '/content/drive/MyDrive/Oa_Suarez/Google Maps/reviews-estados/review-New_Jersey',\n",
        "    '/content/drive/MyDrive/Oa_Suarez/Google Maps/reviews-estados/review-New_Mexico',\n",
        "    '/content/drive/MyDrive/Oa_Suarez/Google Maps/reviews-estados/review-New_York',\n",
        "    '/content/drive/MyDrive/Oa_Suarez/Google Maps/reviews-estados/review-North_Carolina',\n",
        "    '/content/drive/MyDrive/Oa_Suarez/Google Maps/reviews-estados/review-North_Dakota',\n",
        "    '/content/drive/MyDrive/Oa_Suarez/Google Maps/reviews-estados/review-Ohio',\n",
        "    '/content/drive/MyDrive/Oa_Suarez/Google Maps/reviews-estados/review-Oklahoma',\n",
        "    '/content/drive/MyDrive/Oa_Suarez/Google Maps/reviews-estados/review-Oregon',\n",
        "    '/content/drive/MyDrive/Oa_Suarez/Google Maps/reviews-estados/review-Pennsylvania',\n",
        "    '/content/drive/MyDrive/Oa_Suarez/Google Maps/reviews-estados/review-Rhode_Island',\n",
        "    '/content/drive/MyDrive/Oa_Suarez/Google Maps/reviews-estados/review-South_Carolina',\n",
        "    '/content/drive/MyDrive/Oa_Suarez/Google Maps/reviews-estados/review-South_Dakota',\n",
        "    '/content/drive/MyDrive/Oa_Suarez/Google Maps/reviews-estados/review-Tennessee',\n",
        "    '/content/drive/MyDrive/Oa_Suarez/Google Maps/reviews-estados/review-Texas',\n",
        "    '/content/drive/MyDrive/Oa_Suarez/Google Maps/reviews-estados/review-Utah',\n",
        "    '/content/drive/MyDrive/Oa_Suarez/Google Maps/reviews-estados/review-Vermont',\n",
        "    '/content/drive/MyDrive/Oa_Suarez/Google Maps/reviews-estados/review-Virginia',\n",
        "    '/content/drive/MyDrive/Oa_Suarez/Google Maps/reviews-estados/review-Washington',\n",
        "    '/content/drive/MyDrive/Oa_Suarez/Google Maps/reviews-estados/review-West_Virginia',\n",
        "    '/content/drive/MyDrive/Oa_Suarez/Google Maps/reviews-estados/review-Wisconsin',\n",
        "    '/content/drive/MyDrive/Oa_Suarez/Google Maps/reviews-estados/review-Wyoming'\n",
        "\n",
        "]\n",
        "\n",
        "# Procesar y guardar los datos en archivos CSV\n",
        "for directorio in directorios:\n",
        "    df_estado = pd.DataFrame(columns=['user_id', 'name', 'time', 'rating', 'text', 'gmap_id'])\n",
        "\n",
        "    for archivo_json in os.listdir(directorio):\n",
        "        if archivo_json.endswith('.json'):\n",
        "            ruta_completa = os.path.join(directorio, archivo_json)\n",
        "            with open(ruta_completa, 'r', encoding='utf-8') as f:\n",
        "                datos = [limpiar_datos(line) for line in f if line.strip()]\n",
        "                datos = [d for d in datos if d is not None]  # Eliminar datos nulos\n",
        "                df_temp = pd.DataFrame(datos)\n",
        "                df_temp = df_temp[['user_id', 'name', 'time', 'rating', 'text', 'gmap_id']]\n",
        "                df_estado = pd.concat([df_estado, df_temp], ignore_index=True)\n",
        "\n",
        "    # Guardar el DataFrame en un archivo CSV correspondiente al directorio\n",
        "    nombre_csv = directorio.split(\"/\")[-1] + '.csv'\n",
        "    df_estado.to_csv(nombre_csv, index=False)\n",
        "\n",
        "    # Subir el archivo CSV a Google Cloud Storage\n",
        "    bucket = client.get_bucket(bucket_name)\n",
        "    blob = bucket.blob(os.path.join(estados_folder, nombre_csv))\n",
        "    blob.upload_from_filename(nombre_csv)\n"
      ],
      "metadata": {
        "colab": {
          "base_uri": "https://localhost:8080/"
        },
        "id": "9pl4J1rPY-E-",
        "outputId": "04a2ebdb-9e79-49d7-cab5-3ef1ffa215eb"
      },
      "execution_count": null,
      "outputs": [
        {
          "output_type": "stream",
          "name": "stdout",
          "text": [
            "Updated property [core/project].\n"
          ]
        }
      ]
    },
    {
      "cell_type": "code",
      "source": [
        "# recreation\n",
        "\n",
        "# Entertainment"
      ],
      "metadata": {
        "id": "P3pXaAT57Q_F"
      },
      "execution_count": null,
      "outputs": []
    },
    {
      "cell_type": "code",
      "source": [
        "#selecciono la categoria en Yelp que seo buscar y analizar\n",
        "categoria_especifica_yelp = 'recreation'\n",
        "\n",
        "\n",
        "# -----------------------------------------------------------------------------------------------------------------------\n",
        "\n",
        "archivo_pkl = '/content/drive/MyDrive/Oa_Suarez/Yelp/business.pkl'\n",
        "with open(archivo_pkl, 'rb') as archivo:\n",
        "    business = pickle.load(archivo)\n",
        "business = business.loc[:, ~business.columns.duplicated()]\n",
        "columnas_seleccionadas = ['business_id', 'name', 'address', 'city', 'state', 'postal_code', 'latitude', 'longitude', 'stars', 'review_count', 'is_open', 'categories']\n",
        "business = business[columnas_seleccionadas]\n",
        "\n",
        "business = business[business['categories'].str.contains(categoria_especifica_yelp, case=False, na=False)]\n",
        "\n",
        "with open ('/content/drive/MyDrive/Oa_Suarez/Yelp/checkin.json','r') as f:\n",
        "  jcheckin = [json.loads(line) for line in f]\n",
        "\n",
        "df_checkin_Yelp= pd.DataFrame(jcheckin)\n",
        "\n",
        "combined_df = df_checkin_Yelp.merge(business, on='business_id', how='inner')\n",
        "\n",
        "#guardo el documento en CSV\n",
        "combined_df.to_csv('/content/drive/My Drive/Oa_Suarez/Yelp_Checkin_Business.csv', index=False)\n",
        "\n",
        "# creamos un CSV mas pequeño para el Machine Learning de Business y Checkin\n",
        "columnas_seleccionadas_bc = ['business_id', 'date', 'state', 'is_open']\n",
        "df_seleccionado_bc = combined_df[columnas_seleccionadas_bc]\n",
        "df_seleccionado_bc.to_csv('/content/drive/My Drive/Oa_Suarez/Yelp_Checkin_Business-ML.csv', index=False)\n",
        "\n",
        "# Sube el primer archivo CSV a Google Cloud Storage\n",
        "blob3 = bucket.blob('Yelp_Checkin_Business_PowerBI.csv')\n",
        "blob3.upload_from_filename('/content/drive/My Drive/Oa_Suarez/Yelp_Checkin_Business.csv')\n",
        "\n",
        "# Sube el segundo archivo CSV a Google Cloud Storage\n",
        "blob4 = bucket.blob('Yelp_Checkin_Business-ML.csv')\n",
        "blob4.upload_from_filename('/content/drive/My Drive/Oa_Suarez/Yelp_Checkin_Business-ML.csv')\n",
        "\n",
        "\n",
        "\n",
        "\n",
        "# ----------------------------------------------------------------------------------------------------------------------\n",
        "\n",
        "\n",
        "review = '/content/drive/MyDrive/Oa_Suarez/Yelp/review.json'\n",
        "df_review = pd.DataFrame()\n",
        "\n",
        "with open(review, 'r', encoding='utf-8') as f:\n",
        "    datos = [limpiar_datos(line) for line in f if line.strip()]\n",
        "    datos = [d for d in datos if d is not None]  # Eliminar datos nulos\n",
        "    df_temp = pd.DataFrame(datos)\n",
        "    columnas_seleccionadas = ['review_id', 'user_id', 'business_id', 'useful', 'text']\n",
        "    df_temp['text'] = df_temp['text'].astype(str)\n",
        "    df_temp = df_temp.replace('', pd.NA)\n",
        "    df_temp = df_temp[columnas_seleccionadas]\n",
        "\n",
        "    # Rellenar valores nulos con ceros\n",
        "    df_temp.fillna(0, inplace=True)\n",
        "\n",
        "    df_review = pd.concat([df_review, df_temp], ignore_index=True)\n",
        "\n",
        "#combinamos desde la tabla businnes los reviwes q tenga el mismo business_id de ellos\n",
        "combined_df_business_reviwes = df_review.merge(business, on='business_id', how='inner')\n",
        "combined_df_business_reviwes.to_csv('/content/drive/My Drive/Oa_Suarez/Yelp_Review_Business.csv', index=False, encoding='utf-8')\n",
        "\n",
        "cambio_Ml = combined_df_business_reviwes\n",
        "\n",
        "# creamos un CSV mas pequeño para el Machine Learning de Business y Checkin\n",
        "columnas_a_mantener = ['business_id', 'state', 'stars', 'text']\n",
        "cambio_Ml = cambio_Ml[columnas_a_mantener]\n",
        "cambio_Ml.to_csv('/content/drive/My Drive/Oa_Suarez/Yelp_Reviwes_Business-ML.csv', index=False)\n",
        "\n",
        "# Sube el primer archivo CSV a Google Cloud Storage\n",
        "blob5 = bucket.blob('Yelp_Review_Business_PowerBI.csv')\n",
        "blob5.upload_from_filename('/content/drive/My Drive/Oa_Suarez/Yelp_Review_Business.csv')\n",
        "\n",
        "# Sube el segundo archivo CSV a Google Cloud Storage\n",
        "blob6 = bucket.blob('Yelp_Reviwes_Business-ML.csv')\n",
        "blob6.upload_from_filename('/content/drive/My Drive/Oa_Suarez/Yelp_Reviwes_Business-ML.csv')\n",
        "\n",
        "\n",
        "\n",
        "\n",
        "#----------------------------------------------------------------------------------------------------------------------------------\n",
        "\n",
        "\n",
        "tip = '/content/drive/MyDrive/Oa_Suarez/Yelp/tip.json'\n",
        "df_tip = pd.DataFrame()\n",
        "\n",
        "with open(tip, 'r', encoding='utf-8') as f:\n",
        "    datos = [limpiar_datos(line) for line in f if line.strip()]\n",
        "    datos = [d for d in datos if d is not None]  # Eliminar datos nulos\n",
        "    df_temp = pd.DataFrame(datos)\n",
        "    columnas_seleccionadas = ['user_id', 'business_id', 'text']\n",
        "    df_temp = df_temp[columnas_seleccionadas]\n",
        "\n",
        "    # Rellenar valores nulos con ceros\n",
        "    df_temp.fillna(0, inplace=True)\n",
        "\n",
        "    df_tip = pd.concat([df_tip, df_temp], ignore_index=True)\n",
        "\n",
        "#combino la tabla tip con business para saber que datos necesito de tip\n",
        "combined_df_business_tip = df_tip.merge(business, on='business_id', how='inner')\n",
        "\n",
        "#lo guardo en un CSV\n",
        "combined_df_business_tip.to_csv('/content/drive/My Drive/Oa_Suarez/Yelp_Tip_Business.csv', index=False)\n",
        "\n",
        "cambio_tip_Ml = combined_df_business_tip\n",
        "\n",
        "# creamos un CSV mas pequeño para el Machine Learning de Business y Checkin\n",
        "columnas_a_mantener = ['business_id', 'text', 'state', 'categories']\n",
        "cambio_tip_Ml = cambio_tip_Ml[columnas_a_mantener]\n",
        "cambio_tip_Ml.to_csv('/content/drive/My Drive/Oa_Suarez/Yelp_Tip_Business-ML.csv', index=False)\n",
        "\n",
        "# Sube el primer archivo CSV a Google Cloud Storage\n",
        "blob7 = bucket.blob('Yelp_Tip_Business_PowerBI.csv')\n",
        "blob7.upload_from_filename('/content/drive/My Drive/Oa_Suarez/Yelp_Tip_Business.csv')\n",
        "\n",
        "# Sube el segundo archivo CSV a Google Cloud Storage\n",
        "blob8 = bucket.blob('Yelp_Tip_Business-ML.csv')\n",
        "blob8.upload_from_filename('/content/drive/My Drive/Oa_Suarez/Yelp_Tip_Business-ML.csv')\n",
        "\n",
        "\n",
        "\n",
        "# -----------------------------------------------------------------------------------------------------------------------\n",
        "\n",
        "\n",
        "\n",
        "archivo_parquet = '/content/drive/MyDrive/Oa_Suarez/Yelp/user.parquet'\n",
        "tabla_parquet = pq.read_table(archivo_parquet)\n",
        "user = tabla_parquet.to_pandas()\n",
        "user = user.replace('', pd.NA)\n",
        "\n",
        "combined_df_tip_user = user.merge(combined_df_business_tip, on='user_id', how='inner')\n",
        "\n",
        "combined_df_tip_user.to_csv('/content/drive/My Drive/Oa_Suarez/Yelp_User_Tip.csv', index=False)\n",
        "\n",
        "#lo guardo en un CSV\n",
        "combined_df_tip_user.to_csv('/content/drive/My Drive/Oa_Suarez/Yelp_User_Tip.csv', index=False)\n",
        "\n",
        "# creamos un CSV mas pequeño para el Machine Learning de User y Tip\n",
        "#columnas_a_mantener = ['escriba las columnas que desea tener']\n",
        "#cambio_use_Ml = cambio_tip_Ml[columnas_a_mantener]\n",
        "#cambio_use_Ml.to_csv('/content/drive/My Drive/Oa_Suarez/Yelp_User_Tip-ML.csv', index=False)\n",
        "\n",
        "# Sube el primer archivo CSV a Google Cloud Storage\n",
        "blob9 = bucket.blob('Yelp_User_Tip_PowerBI.csv')\n",
        "blob9.upload_from_filename('/content/drive/My Drive/Oa_Suarez/Yelp_User_Tip.csv')\n",
        "\n",
        "# Sube el segundo archivo CSV a Google Cloud Storage\n",
        "#blob10 = bucket.blob('Yelp_User_Tip-ML.csv')\n",
        "#blob10.upload_from_filename('/content/drive/My Drive/Oa_Suarez/Yelp_User_Tip-ML.csv')"
      ],
      "metadata": {
        "id": "TeCYkhUpKt0o"
      },
      "execution_count": 32,
      "outputs": []
    },
    {
      "cell_type": "code",
      "source": [],
      "metadata": {
        "id": "9hCPO89cBe7s"
      },
      "execution_count": null,
      "outputs": []
    },
    {
      "cell_type": "code",
      "source": [],
      "metadata": {
        "id": "LRxr37Dziwrj"
      },
      "execution_count": null,
      "outputs": []
    },
    {
      "cell_type": "code",
      "source": [
        "import gspread\n",
        "from oauth2client.service_account import ServiceAccountCredentials\n"
      ],
      "metadata": {
        "id": "JVstKLOriwoq"
      },
      "execution_count": 35,
      "outputs": []
    }
  ]
}